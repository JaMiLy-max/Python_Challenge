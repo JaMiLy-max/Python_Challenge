{
 "cells": [
  {
   "cell_type": "markdown",
   "id": "8f47563a",
   "metadata": {},
   "source": [
    "## ❓문제1. 여러조건 처리하기\n",
    "사과가 fruits 안에 있으면 사과가 몇번째인지 출력하고,\n",
    "망고가 안에 있으면 망고가 몇번째인지도 출력하고,\n",
    "포도가 안에 있으면 포도가 몇번째인지도 출력하시오.\n",
    "\n",
    "- 만약에 앞에 과일이 없는 경우에는 어떤것도 출력하지 않고, 다음 과일을 확인하도록 코드를 작성해봅시다."
   ]
  },
  {
   "cell_type": "code",
   "execution_count": 1,
   "id": "7c022d11",
   "metadata": {},
   "outputs": [],
   "source": [
    "fruits = ['사과', '딸기', '망고', '방울토마토']"
   ]
  },
  {
   "cell_type": "code",
   "execution_count": 2,
   "id": "4be9932f",
   "metadata": {},
   "outputs": [
    {
     "name": "stdout",
     "output_type": "stream",
     "text": [
      "사과 : 0\n",
      "망고 : 2\n"
     ]
    }
   ],
   "source": [
    "if '사과' in fruits:\n",
    "    print(f'사과 : {fruits.index(\"사과\")}')\n",
    "if '망고' in fruits:\n",
    "    print(f'망고 : {fruits.index(\"망고\")}')\n",
    "if '포도' in fruits:\n",
    "    print(f'포도 : {fruits.index(\"포도\")}')"
   ]
  },
  {
   "cell_type": "markdown",
   "id": "bf055e18",
   "metadata": {},
   "source": [
    "## ❓문제2. 중첩 조건\n",
    "전화상담원이 고객의 성별을 확인한 후, 여성일 경우에만 임신중인지 확인해서, \"임산부 혜택 안내드리겠습니다.\" 문구 출력하는 코드를 작성해보자.\n",
    "- 여성이지만, 임신을 하지 않은 경우, \"혜택 조건에 해당하지 않습니다. \" 출력\n",
    "- 남성인 경우, \"혜택 조건에 해당하지 않습니다.\" 출력"
   ]
  },
  {
   "cell_type": "code",
   "execution_count": 4,
   "id": "1a36f2a8",
   "metadata": {},
   "outputs": [],
   "source": [
    "sex = '여성' # '남성'\n",
    "preg = True # False"
   ]
  },
  {
   "cell_type": "code",
   "execution_count": 5,
   "id": "d5567ec7",
   "metadata": {},
   "outputs": [
    {
     "name": "stdout",
     "output_type": "stream",
     "text": [
      "임산부 혜택 안내드리겠습니다\n"
     ]
    }
   ],
   "source": [
    "if preg == True: \n",
    "    if sex == '여성':\n",
    "        print(\"임산부 혜택 안내드리겠습니다\")\n",
    "    else:\n",
    "        print(\"혜택 조건에 해당하지 않습니다\")"
   ]
  },
  {
   "cell_type": "markdown",
   "id": "eed95cc7",
   "metadata": {},
   "source": [
    "# 🎮 미니 실습: 숫자 맞추기 게임"
   ]
  },
  {
   "cell_type": "code",
   "execution_count": 7,
   "id": "293ba1c4",
   "metadata": {},
   "outputs": [
    {
     "name": "stdout",
     "output_type": "stream",
     "text": [
      "컴퓨터가 1부터 100 사이의 숫자를 선택합니다.\n",
      "숫자를 맞춰보세요.\n",
      "⬇️ 틀렸습니다. DOWN\n",
      "⬇️ 틀렸습니다. DOWN\n",
      "⬇️ 틀렸습니다. DOWN\n",
      "⬆️ 틀렸습니다. UP\n",
      "⬆️ 틀렸습니다. UP\n",
      "⬇️ 틀렸습니다. DOWN\n",
      "⬆️ 틀렸습니다. UP\n",
      "⬆️ 틀렸습니다. UP\n",
      "⬆️ 틀렸습니다. UP\n",
      "⬆️ 틀렸습니다. UP\n",
      "⬆️ 틀렸습니다. UP\n",
      "⬆️ 틀렸습니다. UP\n",
      "⬇️ 틀렸습니다. DOWN\n",
      "🎉 축하합니다! 정답입니다. 정답 : 29\n"
     ]
    }
   ],
   "source": [
    "import random\n",
    "\n",
    "print(\"컴퓨터가 1부터 100 사이의 숫자를 선택합니다.\")\n",
    "print(\"숫자를 맞춰보세요.\")\n",
    "\n",
    "# 컴퓨터가 1~100 사이 숫자 선택\n",
    "secret_number = random.randint(1, 100)\n",
    "attempts = 0\n",
    "\n",
    "while True:\n",
    "   guess = int(input(\"숫자를 입력하세요 (1~100): \")) # 사용자 입력값\n",
    "   attempts += 1    # 시도횟수\n",
    "\n",
    "   if guess == secret_number:\n",
    "       print(f\"🎉 축하합니다! 정답입니다. 정답 : {guess}\")\n",
    "       break  # 정답을 맞추면 반복문 종료\n",
    "   elif guess < secret_number:\n",
    "       print(f\"⬆️ 틀렸습니다. UP\")\n",
    "   else:\n",
    "       print(f\"⬇️ 틀렸습니다. DOWN\")"
   ]
  }
 ],
 "metadata": {
  "kernelspec": {
   "display_name": "Python 3",
   "language": "python",
   "name": "python3"
  },
  "language_info": {
   "codemirror_mode": {
    "name": "ipython",
    "version": 3
   },
   "file_extension": ".py",
   "mimetype": "text/x-python",
   "name": "python",
   "nbconvert_exporter": "python",
   "pygments_lexer": "ipython3",
   "version": "3.13.7"
  }
 },
 "nbformat": 4,
 "nbformat_minor": 5
}
