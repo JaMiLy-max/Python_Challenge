{
 "cells": [
  {
   "cell_type": "markdown",
   "id": "242a0cd7",
   "metadata": {},
   "source": [
    "### 문제1 \n",
    "```\n",
    "word = \"Python\"\n",
    "```\n",
    "#### 예상 결과: h\n",
    "#### 예상 결과: n"
   ]
  },
  {
   "cell_type": "code",
   "execution_count": 14,
   "id": "a547cf12",
   "metadata": {},
   "outputs": [
    {
     "name": "stdout",
     "output_type": "stream",
     "text": [
      "h\n",
      "n\n"
     ]
    }
   ],
   "source": [
    "word = \"Python\"\n",
    "print(word[3])\n",
    "print(word[-1])"
   ]
  },
  {
   "cell_type": "markdown",
   "id": "40dd4d74",
   "metadata": {},
   "source": [
    "### 문제2\n",
    "```\n",
    "numbers = [10, 20, 30, 40, 50]\n",
    "```\n",
    "#### 예상 결과: 30\n",
    "#### 예상 결과: 10"
   ]
  },
  {
   "cell_type": "code",
   "execution_count": 13,
   "id": "1d85add5",
   "metadata": {},
   "outputs": [
    {
     "name": "stdout",
     "output_type": "stream",
     "text": [
      "30\n",
      "10\n"
     ]
    }
   ],
   "source": [
    "numbers = [10, 20, 30, 40, 50]\n",
    "print(numbers[2])\n",
    "print(numbers[0])"
   ]
  },
  {
   "cell_type": "markdown",
   "id": "c9c2ac8d",
   "metadata": {},
   "source": [
    "### 문제3\n",
    "```\n",
    "text = \"Python\"\n",
    "```\n",
    "#### 예상 결과: Pyt\n",
    "#### 예상 결과: thon\n"
   ]
  },
  {
   "cell_type": "code",
   "execution_count": 4,
   "id": "9c781573",
   "metadata": {},
   "outputs": [
    {
     "name": "stdout",
     "output_type": "stream",
     "text": [
      "Pyt\n",
      "thon\n"
     ]
    }
   ],
   "source": [
    "text = \"Python\"\n",
    "print(text[:3])\n",
    "print(text[2:])"
   ]
  },
  {
   "cell_type": "markdown",
   "id": "ec2ca235",
   "metadata": {},
   "source": [
    "### 문제4\n",
    "```\n",
    "data = [10, 20, 30, 40, 50]\n",
    "```\n",
    "#### 예상 결과: [20, 30, 40]\n",
    "#### 예상 결과: [50, 40, 30, 20, 10]"
   ]
  },
  {
   "cell_type": "code",
   "execution_count": 12,
   "id": "30c68216",
   "metadata": {},
   "outputs": [
    {
     "name": "stdout",
     "output_type": "stream",
     "text": [
      "[20, 30, 40, 50]\n",
      "[50, 40, 30, 20, 10]\n"
     ]
    }
   ],
   "source": [
    "data = [10, 20, 30, 40, 50]\n",
    "print(data[1:5])\n",
    "print(data[::-1])"
   ]
  }
 ],
 "metadata": {
  "kernelspec": {
   "display_name": "Python 3",
   "language": "python",
   "name": "python3"
  },
  "language_info": {
   "codemirror_mode": {
    "name": "ipython",
    "version": 3
   },
   "file_extension": ".py",
   "mimetype": "text/x-python",
   "name": "python",
   "nbconvert_exporter": "python",
   "pygments_lexer": "ipython3",
   "version": "3.9.6"
  }
 },
 "nbformat": 4,
 "nbformat_minor": 5
}
