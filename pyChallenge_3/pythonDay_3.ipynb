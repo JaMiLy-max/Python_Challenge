{
 "cells": [
  {
   "cell_type": "markdown",
   "id": "c4f49ca5",
   "metadata": {},
   "source": [
    "# 🎪 미니 실습: 로또 번호 생성기\n",
    "\n",
    "1. 사용자에게 숫자로 입력값을 받는다.\n",
    "user_number = input(\"숫자를 입려\")\n",
    "2. 입력받은 값으로 반복문을 돌린다.\n",
    "3. 반복문 안에서 랜덤으로 6개의 숫자를 생성한다 (1~45)"
   ]
  },
  {
   "cell_type": "code",
   "execution_count": 2,
   "id": "b19c4c78",
   "metadata": {},
   "outputs": [
    {
     "name": "stdout",
     "output_type": "stream",
     "text": [
      "🎰 로또 번호 생성기\n",
      "==============================\n",
      "\n",
      "🎯 10개의 로또 번호:\n",
      "-------------------------\n",
      "1번째: [9, 13, 24, 34, 37, 42]\n",
      "2번째: [6, 10, 35, 37, 39, 40]\n",
      "3번째: [3, 8, 12, 13, 21, 36]\n",
      "4번째: [2, 15, 16, 17, 26, 32]\n",
      "5번째: [8, 9, 16, 36, 39, 43]\n",
      "6번째: [4, 9, 21, 28, 36, 44]\n",
      "7번째: [1, 18, 23, 25, 39, 45]\n",
      "8번째: [11, 21, 23, 29, 32, 35]\n",
      "9번째: [9, 12, 22, 26, 29, 32]\n",
      "10번째: [2, 18, 21, 27, 32, 43]\n",
      "\n",
      "총 10개의 번호가 생성되었습니다!\n",
      "프로그램을 종료합니다. 👋\n"
     ]
    }
   ],
   "source": [
    "import random\n",
    "\n",
    "# 로또 번호 : 6개. 6개 이하로 출력.\n",
    "def generate_lotto() : \n",
    "    # random.sample로 중복 X\n",
    "    numbers = random.sample(range(1, 46), 6)  # 1~45에서 6개 이하 선택\n",
    "    numbers.sort()  # 오름차순 정렬\n",
    "    return numbers\n",
    "\n",
    "print(\"🎰 로또 번호 생성기\")\n",
    "print(\"=\" * 30)\n",
    "\n",
    "# 사용자가 원하는 만큼 생성\n",
    "while True:\n",
    "    try:   # Tyu catch를 넣는 이유 : ValueError > 숫자 외의것을 넣을경우 에러 메시지를 대신하여 처리할 내용을 정의하기 위해서.\n",
    "        count = int(input(\"몇 개의 세트를 생성할까요? (0은 종료): \"))\n",
    "\n",
    "        if count == 0:\n",
    "            print(\"프로그램을 종료합니다. 👋\")\n",
    "            break\n",
    "        elif count < 0:\n",
    "            print(\"양수를 입력해주세요!\")\n",
    "            continue\n",
    "\n",
    "        print(f\"\\n🎯 {count}개의 로또 번호:\")\n",
    "        print(\"-\" * 25)\n",
    "\n",
    "        for i in range(count):\n",
    "            lotto_numbers = generate_lotto()\n",
    "            print(f\"{i+1}번째: {lotto_numbers}\")\n",
    "\n",
    "        print(f\"\\n총 {count}개의 번호가 생성되었습니다!\")\n",
    "        print(\"프로그램을 종료합니다. 👋\")\n",
    "        break\n",
    "\n",
    "    except ValueError:\n",
    "        print(\"숫자를 입력해주세요!\")"
   ]
  },
  {
   "cell_type": "markdown",
   "id": "6eff010f",
   "metadata": {},
   "source": [
    "## 📱 미니 실습: SNS 포스트 클래스 만들기"
   ]
  }
 ],
 "metadata": {
  "kernelspec": {
   "display_name": "Python 3",
   "language": "python",
   "name": "python3"
  },
  "language_info": {
   "codemirror_mode": {
    "name": "ipython",
    "version": 3
   },
   "file_extension": ".py",
   "mimetype": "text/x-python",
   "name": "python",
   "nbconvert_exporter": "python",
   "pygments_lexer": "ipython3",
   "version": "3.13.7"
  }
 },
 "nbformat": 4,
 "nbformat_minor": 5
}
